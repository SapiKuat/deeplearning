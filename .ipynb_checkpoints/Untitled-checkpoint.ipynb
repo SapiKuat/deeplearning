{
 "cells": [
  {
   "cell_type": "code",
   "execution_count": 14,
   "metadata": {},
   "outputs": [],
   "source": [
    "from skimage.io import imread_collection, imshow\n",
    "aseman_folder = 'data_batik/train/Aseman/*.jpg'\n",
    "aseman = imread_collection(aseman_folder)\n",
    "\n",
    "bledak_folder = 'data_batik/train/Aseman/*.jpg'\n",
    "bledak = imread_collection(bledak_folder)\n",
    "\n",
    "gunung_ringgit_folder = 'data_batik/train/GunungRinggit/*.jpg'\n",
    "gunung_ringgit = imread_collection(gunung_ringgit_folder)\n",
    "\n",
    "krecak_folder = 'data_batik/train/Krecak/*.jpg'\n",
    "krecak = imread_collection(krecak_folder)\n",
    "\n",
    "latohan_folder = 'data_batik/train/Latohan/*.jpg'\n",
    "latohan = imread_collection(latohan_folder)\n",
    "\n",
    "naga_folder = 'data_batik/train/Naga/*.jpg'\n",
    "naga = imread_collection(naga_folder)\n",
    "\n",
    "sekar_jagat_folder = 'data_batik/train/SekarJagat/*.jpg'\n",
    "sekar_jagat = imread_collection(sekar_jagat_folder)"
   ]
  },
  {
   "cell_type": "code",
   "execution_count": 23,
   "metadata": {},
   "outputs": [
    {
     "name": "stdout",
     "output_type": "stream",
     "text": [
      "59\n"
     ]
    }
   ],
   "source": [
    "print(len(aseman))"
   ]
  },
  {
   "cell_type": "code",
   "execution_count": 35,
   "metadata": {},
   "outputs": [],
   "source": [
    "def insert_numerical(dataset,category,label):\n",
    "    for i in range(0,len(dataset)-1):\n",
    "        if label is 'aseman':\n",
    "            category.append(1)\n",
    "        elif label is 'bledak':\n",
    "            category.append(2)\n",
    "        elif label is 'gunung_ringgit':\n",
    "            category.append(3)\n",
    "        elif label is 'krecak':\n",
    "            category.append(4)\n",
    "        elif label is 'latohan':\n",
    "            category.append(5)\n",
    "        elif label is 'naga':\n",
    "            category.append(6)\n",
    "        else:\n",
    "            category.append(7)\n",
    "    return category"
   ]
  },
  {
   "cell_type": "code",
   "execution_count": 36,
   "metadata": {},
   "outputs": [],
   "source": [
    "batik_category=[\n",
    "    'aseman',\n",
    "    'bledak',\n",
    "    'gunung_ringgit',\n",
    "    'krecak',\n",
    "    'latohan',\n",
    "    'naga',\n",
    "    'sekar_jagat'\n",
    "]\n",
    "category=[]\n",
    "\n",
    "for i in batik_category:\n",
    "    if i is 'aseman':\n",
    "        category = insert_numerical(aseman, category, batik_category[0])\n",
    "    elif i is 'bledak':\n",
    "        category = insert_numerical(bledak, category, batik_category[1])\n",
    "    elif i is 'gunung_ringgit':\n",
    "        category = insert_numerical(gunung_ringgit, category, batik_category[2])\n",
    "    elif i is 'krecak':\n",
    "        category = insert_numerical(krecak, category, batik_category[3])\n",
    "    elif i is 'latohan':\n",
    "        category = insert_numerical(latohan, category, batik_category[4])\n",
    "    elif i is 'naga':\n",
    "        category = insert_numerical(naga, category, batik_category[5])\n",
    "    else:\n",
    "        category = insert_numerical(sekar_jagat, category, batik_category[6])"
   ]
  },
  {
   "cell_type": "code",
   "execution_count": 51,
   "metadata": {},
   "outputs": [
    {
     "name": "stdout",
     "output_type": "stream",
     "text": [
      "[[0. 1. 0. ... 0. 0. 0.]\n",
      " [0. 1. 0. ... 0. 0. 0.]\n",
      " [0. 1. 0. ... 0. 0. 0.]\n",
      " ...\n",
      " [0. 0. 0. ... 0. 0. 1.]\n",
      " [0. 0. 0. ... 0. 0. 1.]\n",
      " [0. 0. 0. ... 0. 0. 1.]]\n"
     ]
    }
   ],
   "source": [
    "from keras.utils import to_categorical\n",
    "import numpy as np\n",
    "\n",
    "category = np.array(category)\n",
    "Y_train = to_categorical(category, num_classes=8)\n",
    "print(Y_train)"
   ]
  },
  {
   "cell_type": "code",
   "execution_count": null,
   "metadata": {},
   "outputs": [],
   "source": [
    "from keras.models import Sequential\n",
    "from keras.layers import Dense, Activation, Conv2D, MaxPooling2D, Flatten, Dropout, BatchNormalization\n"
   ]
  }
 ],
 "metadata": {
  "kernelspec": {
   "display_name": "Python 3",
   "language": "python",
   "name": "python3"
  },
  "language_info": {
   "codemirror_mode": {
    "name": "ipython",
    "version": 3
   },
   "file_extension": ".py",
   "mimetype": "text/x-python",
   "name": "python",
   "nbconvert_exporter": "python",
   "pygments_lexer": "ipython3",
   "version": "3.6.7"
  }
 },
 "nbformat": 4,
 "nbformat_minor": 2
}
